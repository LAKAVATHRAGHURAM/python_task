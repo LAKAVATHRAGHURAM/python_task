{
 "cells": [
  {
   "cell_type": "code",
   "execution_count": 2,
   "id": "8a8e0503",
   "metadata": {},
   "outputs": [
    {
     "name": "stdout",
     "output_type": "stream",
     "text": [
      "Defaulting to user installation because normal site-packages is not writeable\n",
      "Requirement already satisfied: SpeechRecognition in c:\\users\\user\\appdata\\roaming\\python\\python311\\site-packages (3.10.1)\n",
      "Requirement already satisfied: requests>=2.26.0 in c:\\users\\user\\appdata\\roaming\\python\\python311\\site-packages (from SpeechRecognition) (2.31.0)\n",
      "Requirement already satisfied: typing-extensions in c:\\users\\user\\appdata\\roaming\\python\\python311\\site-packages (from SpeechRecognition) (4.9.0)\n",
      "Requirement already satisfied: charset-normalizer<4,>=2 in c:\\users\\user\\appdata\\roaming\\python\\python311\\site-packages (from requests>=2.26.0->SpeechRecognition) (3.3.2)\n",
      "Requirement already satisfied: idna<4,>=2.5 in c:\\users\\user\\appdata\\roaming\\python\\python311\\site-packages (from requests>=2.26.0->SpeechRecognition) (3.6)\n",
      "Requirement already satisfied: urllib3<3,>=1.21.1 in c:\\users\\user\\appdata\\roaming\\python\\python311\\site-packages (from requests>=2.26.0->SpeechRecognition) (2.2.1)\n",
      "Requirement already satisfied: certifi>=2017.4.17 in c:\\users\\user\\appdata\\roaming\\python\\python311\\site-packages (from requests>=2.26.0->SpeechRecognition) (2024.2.2)\n",
      "Defaulting to user installation because normal site-packages is not writeable\n",
      "Collecting pyttsx3\n",
      "  Downloading pyttsx3-2.90-py3-none-any.whl (39 kB)\n",
      "Collecting comtypes (from pyttsx3)\n",
      "  Obtaining dependency information for comtypes from https://files.pythonhosted.org/packages/7e/f1/759a8c4d58695b9fcc2e22b0c986447759534084ddd6c4ad53df07c6fdfa/comtypes-1.3.0-py3-none-any.whl.metadata\n",
      "  Downloading comtypes-1.3.0-py3-none-any.whl.metadata (6.4 kB)\n",
      "Collecting pypiwin32 (from pyttsx3)\n",
      "  Downloading pypiwin32-223-py3-none-any.whl (1.7 kB)\n",
      "Requirement already satisfied: pywin32 in c:\\programdata\\anaconda3\\lib\\site-packages (from pyttsx3) (305.1)\n",
      "Downloading comtypes-1.3.0-py3-none-any.whl (194 kB)\n",
      "   ---------------------------------------- 0.0/194.1 kB ? eta -:--:--\n",
      "   ---------------------------------------- 0.0/194.1 kB ? eta -:--:--\n",
      "   ------------------ --------------------- 92.2/194.1 kB 5.1 MB/s eta 0:00:01\n",
      "   ------------------------- -------------- 122.9/194.1 kB 2.4 MB/s eta 0:00:01\n",
      "   ----------------------------- ---------- 143.4/194.1 kB 2.1 MB/s eta 0:00:01\n",
      "   ----------------------------- ---------- 143.4/194.1 kB 2.1 MB/s eta 0:00:01\n",
      "   ---------------------------------------- 194.1/194.1 kB 1.3 MB/s eta 0:00:00\n",
      "Installing collected packages: comtypes, pypiwin32, pyttsx3\n",
      "Successfully installed comtypes-1.3.0 pypiwin32-223 pyttsx3-2.90\n"
     ]
    },
    {
     "name": "stderr",
     "output_type": "stream",
     "text": [
      "  WARNING: The script clear_comtypes_cache.exe is installed in 'C:\\Users\\user\\AppData\\Roaming\\Python\\Python311\\Scripts' which is not on PATH.\n",
      "  Consider adding this directory to PATH or, if you prefer to suppress this warning, use --no-warn-script-location.\n"
     ]
    }
   ],
   "source": [
    "!pip install SpeechRecognition\n",
    "!pip install pyttsx3\n"
   ]
  },
  {
   "cell_type": "code",
   "execution_count": null,
   "id": "68a6d4eb",
   "metadata": {},
   "outputs": [],
   "source": [
    "import speech_recognition as sr\n",
    "import pyttsx3\n",
    "\n",
    "# Initialize the speech recognizer and text-to-speech engine\n",
    "recognizer = sr.Recognizer()\n",
    "engine = pyttsx3.init()\n",
    "\n",
    "def listen():\n",
    "    with sr.Microphone() as source:\n",
    "        print(\"Listening...\")\n",
    "        recognizer.adjust_for_ambient_noise(source)\n",
    "        audio = recognizer.listen(source)\n",
    "\n",
    "    try:\n",
    "        print(\"Recognizing...\")\n",
    "        text = recognizer.recognize_google(audio)\n",
    "        print(\"You said:\", text)\n",
    "        return text.lower()\n",
    "    except sr.UnknownValueError:\n",
    "        print(\"Sorry, I couldn't understand what you said.\")\n",
    "        return \"\"\n",
    "    except sr.RequestError as e:\n",
    "        print(\"Could not request results from Google Speech Recognition service; {0}\".format(e))\n",
    "        return \"\"\n",
    "\n",
    "def speak(text):\n",
    "    engine.say(text)\n",
    "    engine.runAndWait()\n",
    "\n",
    "def process_command(command):\n",
    "    if \"hello\" in command:\n",
    "        speak(\"Hello! How can I help you?\")\n",
    "    elif \"what is your name\" in command:\n",
    "        speak(\"I am your personal assistant.\")\n",
    "    elif \"exit\" in command:\n",
    "        speak(\"Goodbye!\")\n",
    "        exit()\n",
    "    else:\n",
    "        speak(\"Sorry, I didn't understand that.\")\n",
    "\n",
    "if __name__ == \"__main__\":\n",
    "    speak(\"Hello! How can I help you?\")\n",
    "\n",
    "    while True:\n",
    "        command = listen()\n",
    "        if command:\n",
    "            process_command(command)\n"
   ]
  },
  {
   "cell_type": "code",
   "execution_count": null,
   "id": "d481dbaf",
   "metadata": {},
   "outputs": [],
   "source": []
  }
 ],
 "metadata": {
  "kernelspec": {
   "display_name": "Python 3 (ipykernel)",
   "language": "python",
   "name": "python3"
  },
  "language_info": {
   "codemirror_mode": {
    "name": "ipython",
    "version": 3
   },
   "file_extension": ".py",
   "mimetype": "text/x-python",
   "name": "python",
   "nbconvert_exporter": "python",
   "pygments_lexer": "ipython3",
   "version": "3.11.5"
  }
 },
 "nbformat": 4,
 "nbformat_minor": 5
}
